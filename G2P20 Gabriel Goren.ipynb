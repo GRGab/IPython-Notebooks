{
 "cells": [
  {
   "cell_type": "markdown",
   "metadata": {},
   "source": [
    "# Guía 2 Problema 10: Simulación de un detector de fotones\n",
    "---------------------------------------------------------------------\n",
    "*Por Gabriel Goren. L.U.:199/15. FCEN - UBA*\n",
    "\n",
    "**(a)** _La mayor parte de los lenguajes de programación y muchos programas con orientación cientı́fica incluyen\n",
    "generadores de números pseudoaleatorios con distribución uniforme en [0, 1). Cualquier conjunto de\n",
    "dichos números constituye una muestra de una variable aleatoria continua (tema de la guía siguiente)\n",
    "con dicha distribución, pero aquı́ nos interesa solamente el hecho de que pueden ser usados para simular\n",
    "experimentos de Bernoulli. Mostrar que la probabilidad de que tal generador entregue un número en\n",
    "[0, p) (0 ≤ p ≤ 1) es p (y en [p, 1) es 1 − p). Implemente, a partir de esta propiedad, un programa que genere el resultado de una serie de n experimentos de Bernoulli independientes y cuente el número de\n",
    "éxitos obtenido. Considere n y la probabilidad de éxito p como parámetros libres._\n",
    "\n",
    "En primer lugar mostramos computacionalmente que si $X \\sim U[0,1]$ entonces $Pr(X \\in [0,p)) = p \\forall p \\in [0,1]$. Una vez establecido esto se deduce trivialmente que $Pr(X \\in [p,1)) = 1 - p$.\n"
   ]
  },
  {
   "cell_type": "code",
   "execution_count": 5,
   "metadata": {
    "collapsed": false
   },
   "outputs": [
    {
     "data": {
      "text/plain": [
       "[10.36, 20.58, 30.24, 39.83, 49.36, 60.22, 70.38, 79.94, 89.97]"
      ]
     },
     "execution_count": 5,
     "metadata": {},
     "output_type": "execute_result"
    }
   ],
   "source": [
    "from numpy.random import uniform\n",
    "import numpy as np\n",
    "import matplotlib.pyplot as plt\n",
    "from scipy.stats import binom, poisson\n",
    "%matplotlib inline\n",
    "\n",
    "### a\n",
    "\n",
    "# Muestro computacionalmente que la probabilidad\n",
    "# de que salga un número entre 0 y p es p.\n",
    "\n",
    "def gen_nprom():\n",
    "    \"Genera 100 números aleatorios entre 0 y 1, cuenta cuántos son menores o \\\n",
    "    iguales a p. \\\n",
    "    Esto se realiza 100 veces y se calcula el promedio. Todo el proceso se hace \\\n",
    "    una vez para cada valor de p = 0.1, 0.2, ... 0.9. La función devuelve una  \\\n",
    "    lista con el promedio para cada valor de p.\"\n",
    "    nprom = []\n",
    "    for p in  [0.1, 0.2, 0.3, 0.4, 0.5, 0.6, 0.7, 0.8, 0.9]:\n",
    "        n = []\n",
    "        for i in range(100):\n",
    "            # Lista con números aleatorios\n",
    "            xs = (uniform() for k in range(100)) #xs es un generador, no una lista\n",
    "            # Los éxitos son los números que resultaron ser\n",
    "            # menores que p\n",
    "            exitos = list(filter(lambda n: n < p, xs))\n",
    "            n.append(len(exitos))\n",
    "        nprom.append(sum(n)/len(n))\n",
    "    return nprom\n",
    "gen_nprom()"
   ]
  },
  {
   "cell_type": "markdown",
   "metadata": {},
   "source": [
    "Los promedios calculados se pueden tomar como estimadores para la esperanza de las variables aleatorias \"cantidad de números menores a p si genero 100 entre 0 y 1.\" A su vez, la probabilidad de que un número aleatorio entre 0 y 1 sea menor a p se estima como esa esperanza dividida por el número total de números generados, que en este caso es 100.\n",
    "\n",
    "Por lo tanto, se estima a partir del output de esta función que la probabilidad de que un número aleatorio distribuido uniformemente entre 0 y 1 sea menor a p es igual a p.\n",
    "\n",
    "(Demostrar que esto es cierto analíticamente es trivial, pero eso es un asunto de la Guía 3).\n",
    "\n",
    "------------------\n",
    "\n",
    "Ahora usando este hecho implementamos una función `bernoulli(n,p)` que simula una sucesión de experimentos de Bernoulli. En otras palabras, `bernoulli(n,p)` es un generador de números aleatorios con distribución $Binomial(n,p)$."
   ]
  },
  {
   "cell_type": "code",
   "execution_count": 3,
   "metadata": {
    "collapsed": true
   },
   "outputs": [],
   "source": [
    "def bernoulli(n,p):\n",
    "    trials = (uniform() for k in range(n))\n",
    "    exitos = list(filter(lambda n: n < p, trials))\n",
    "    return len(exitos)"
   ]
  },
  {
   "cell_type": "markdown",
   "metadata": {},
   "source": [
    "**(f)** ¿*Qué distribución espera para que el número de datos en una determinada clase (bin) de un histograma\n",
    "y por qué? Use la desviación estándar como una estimación de la incerteza de dicha variable y grafique\n",
    "barras de error sobre los histogramas realizados. Discuta el sentido en que deben interpretarse las\n",
    "posibles discrepancias entre las distribuciones de probabilidad teóricas y los histogramas.*\n",
    "\n",
    "Discutimos este punto primero para hacer los histogramas de los otros incisos directamente con sus barras de error.\n",
    "\n",
    "Los números de datos $X_i$ en cada uno de los $i$ bines de un histograma tienen una distribución conjunta _multinormal_ $f(x_1,...,x_N; n, p_1, ... p_N)$ donde $n$ es el número total de entradas en el bin y cada parámetro $p_i$ es la probabilidad de que un dato caiga en el $i$-ésimo bin.\n",
    "\n",
    "El número de datos en el $i$-ésimo bin, independientemente de cuántos datos haya en los demás, estará dado por la distribución marginal para dicho bin, la cual resulta ser una binomial $B(x_i;n,p_i)$. Por lo tanto la varianza de $X_i$ es $n \\, p_i \\, (p_i-1)$. Como en general vamos a tener una cantidad grande de bines (en este ejercicio, por lo menos 15), la probabilidad $p_i$ será más bien chica, y por otro lado $n$ será grande (en este ejercicio, $n = 1000$). En estas condiciones es válido aproximar la varianza de una binomial como la de una poissoniana con igual esperanza, dada por $\\mu_i = n \\, p_i$. Por lo tanto la desviación estándar de $X_i$ será $\\sqrt{\\mu_i}$.\n",
    "\n",
    "Como $\\mu_i$ no es una cantidad observable, debe ser estimada, y en el caso de un histograma nuestra mejor estimación de $\\mu_i$ resulta ser la realización observada $x_i$ de la variable $X_i$. Por lo tanto se estima el error de cada bin como $\\sqrt{x_i}$ donde $x_i$ es la altura del bin.\n",
    "\n",
    "----------------------\n",
    "\n",
    "Las posibles discrepancias entre las distribuciones de probabilidad teóricas y los histogramas deben interpretarse desde un punto de vista probabilístico. el valor observado $x_i$ se encuentra en $\\mu_i \\pm \\sqrt{\\mu_i}$ con una probabilidad de aproximadamente 70%, luego $\\mu$ se encuentra en $x_i \\pm \\sqrt{\\mu_i}$ con dicha probabilidad. Asumiendo que $x_i$ no difiere demasiado de $\\mu_i$, aproximamos $\\sqrt{\\mu_i} \\approx \\sqrt{x_i}$ y afirmamos que $\\mu_i$ se encuentra en el intervalo $x_i \\pm \\sqrt{x_i}$ con probabilidad de aproximadamente el 70%.\n",
    "\n",
    "Con esto en mente, si los valores $x_i$ observados son relativamente cercanos a la curva teórica, entonces esperamos que las barras de error de más o menos un 70% de ellos se solapen con la curva. Si algunos valores $x_i$ están excepcionalmente lejos de la curva (cosa que tranquilamente puede pasar como fluctuación probabilística) entonces la aproximación $\\sqrt{\\mu_i} \\approx \\sqrt{x_i}$ no será válida para ellos y su barra de error estará mal estimada. También estará mal estimado el error cuando $x_i = 0$, pues obviamente este no debe ser cero."
   ]
  },
  {
   "cell_type": "markdown",
   "metadata": {},
   "source": [
    "**(b)** *Suponga que inciden exactamente $n = 15$ fotones sobre un detector con una eficiencia $\\epsilon = 0.75$. Use el\n",
    "programa escrito en el punto anterior para determinar cuántos fotones son detectados en un experimento\n",
    "particular. Repita el experimento 1000 veces y realice un histograma de los resultados (i.e., del número\n",
    "de fotones detectados en cada experimento). Compárelo con la distribución de probabilidad teórica para\n",
    "dicha variable aleatoria. No olvide normalizar correctamente el histograma para realizar la comparación.*\n",
    "\n"
   ]
  },
  {
   "cell_type": "code",
   "execution_count": 6,
   "metadata": {
    "collapsed": false
   },
   "outputs": [
    {
     "data": {
      "text/plain": [
       "[<matplotlib.lines.Line2D at 0x7ffbafac2828>]"
      ]
     },
     "execution_count": 6,
     "metadata": {},
     "output_type": "execute_result"
    },
    {
     "data": {
      "image/png": "[encoded data removed]",
      "text/plain": [
       "<matplotlib.figure.Figure at 0x7ffbe428a080>"
      ]
     },
     "metadata": {},
     "output_type": "display_data"
    }
   ],
   "source": [
    "# Simulamos 1000 experimentos con n = 15, p = eficiencia = 0.75.\n",
    "experim_bernoulli = [bernoulli(15, 0.75) for k in range(1000)]\n",
    "\n",
    "# Comenzamos el proceso de graficar los resultados\n",
    "fig_1 = plt.figure()\n",
    "ax = fig_1.add_subplot(111)\n",
    "\n",
    "#Generamos las alturas y los bordes de los bines. Normalizamos el área a 1\n",
    "ys, bordes_bines = np.histogram(experim_bernoulli, bins=[x-0.5 for x in range(17)],\n",
    "                                                normed=True)\n",
    "# A partir de los bordes de los bines, generamos una lista de los centros de\n",
    "# los bines, requerida por la función pyplot.bar:\n",
    "centros_bines = 0.5*(bordes_bines[1:]+bordes_bines[:-1])\n",
    "\n",
    "# Normalizamos el error poissoniano para mantener el error relativo:\n",
    "error      = np.sqrt(ys)/np.sqrt(1000)\n",
    "\n",
    "# Este ancho es puramente gráfico y no afecta a la normalización porque\n",
    "# la hicimos con anterioridad:\n",
    "ancho      = 0.8\n",
    "\n",
    "# Ahora graficamos el histograma con pyplot:\n",
    "ax.bar(centros_bines, ys, width=ancho, color='orange', yerr=error)\n",
    "\n",
    "# Por último, graficamos la distribución analítica:\n",
    "xs = range(16)\n",
    "ax.plot(xs, binom.pmf(xs, 15, 0.75), 'o')"
   ]
  },
  {
   "cell_type": "markdown",
   "metadata": {},
   "source": [
    "Se observa que la simulación se ajusta bien a la probabilidad teórica."
   ]
  },
  {
   "cell_type": "markdown",
   "metadata": {},
   "source": [
    "**(c)** *Ahora considere una fuente de intensidad media I = 15 fot s^(−1) . Simule el número de fotones emitidos\n",
    "por la fuente en ∆t = 1 s del siguiente modo. Subdivida el intervalo ∆t en m >> 1 subintervalos iguales dt\n",
    "(sugerencia: use m = 1000). Aproxime la probabilidad de que la fuente emita un fotón en dt como Idt, y\n",
    "desprecie la probabilidad de emitir más de 1 fotón en el mismo intervalo (¿cómo justifica estas hipótesis?).\n",
    "Simule entonces el número de fotones emitidos en cada dt usando el programa desarrollado en el punto\n",
    "(a) (¿por qué es válido usar un programa que simula experimentos de Bernoulli?), y sumando sobre\n",
    "todos los dt calcule el número total de fotones emitidos durante ∆t. Repita el experimento 1000 veces,\n",
    "construya un histograma de los resultados y superponga a éste la distribución teórica correspondiente\n",
    "(no olvide normalizar). Discuta el procedimiento y los resultados en base a las hipótesis del proceso de\n",
    "Poisson.*\n",
    "\n",
    "Si $dt = 1/1000$ s, entonces la probabilidad de emitir más de un fotón en un $dt$ es $$1 - Poisson(k = 0; 15/1000) - Poisson(k=1; 15/1000) = 0.00011...$$ mientras que las probabilidades de emitir uno o ninguno son $Poisson(k=1; 15/1000) = 0.014...$ y $Poisson(k = 0; 15/1000) = 0.98...$ respectivamente. En estas condiciones es válido aproximar la probabilidad de emitir más de un fotón como nula, y considerar que en cada intervalo o bien se emite un fotón, o bien no se emite ninguno. La forma de asignar las probabilidades a estos dos sucesos es con una binomial $Binomial(n = 1, p = 15/1000)$, de igual esperanza que la poissoniana que pretende aproximar.\n",
    "\n",
    "Como la función `bernoulli(n,p)` genera números aleatorios con distibución $Binomial(n,p)$, podemos emplearla para simular la emisión o no emisión de un fotón durante un dt."
   ]
  },
  {
   "cell_type": "code",
   "execution_count": 7,
   "metadata": {
    "collapsed": false
   },
   "outputs": [
    {
     "data": {
      "text/plain": [
       "[<matplotlib.lines.Line2D at 0x7ffbaf9e5550>]"
      ]
     },
     "execution_count": 7,
     "metadata": {},
     "output_type": "execute_result"
    },
    {
     "data": {
      "image/png": "[encoded data removed]",
      "text/plain": [
       "<matplotlib.figure.Figure at 0x7ffbafae5940>"
      ]
     },
     "metadata": {},
     "output_type": "display_data"
    }
   ],
   "source": [
    "# Ahora simulamos una fuente que emite en promedio 15 fotones por segundo\n",
    "\n",
    "#Realizando las aproximaciones que menciona la guía,\n",
    "#en un dt la probabilidad de que se emita un fotón\n",
    "#es 15*dt\n",
    "I = 15 # en 1/segundos\n",
    "m = 1000\n",
    "\n",
    "# Una emisión de 1 segundo da como resultado un número de fotones que puede\n",
    "# ser calculado como\n",
    "#       sum(bernoulli(1, I*dt) for i in range(m))\n",
    "\n",
    "def fotones(actividad, subdivisiones):\n",
    "    \"Generador de números aleatorios que representan el número de fotones \\\n",
    "    emitidos por una fuente de actividad 'actividad' en el lapso de 1 segundo.\\\n",
    "    El número de fotones emitidos se aproxima dividiendo al segundo en una cierta \\\n",
    "    cantidad de subdivisiones de duración dt =1/m y asumiendo que en cada uno de \\\n",
    "    esos intervalos se emite un fotón con probabilidad actividad*dt, o bien no se\\\n",
    "    emite ninguno.\"\n",
    "    dt = 1 / subdivisiones # en segundos\n",
    "    return sum(bernoulli(1, actividad * dt) for j in range(m))\n",
    "\n",
    "# Simulamos 1000 de estos experimentos:\n",
    "experim_fotones = [fotones(I,m) for k in range(1000)]\n",
    "\n",
    "# Graficamos los resultados igual que en el punto previo.\n",
    "\n",
    "fig_2 = plt.figure()\n",
    "ax = fig_2.add_subplot(111)\n",
    "#Generamos las alturas y los bordes de los bines. Normalizamos el área a 1\n",
    "ys, bordes_bines = np.histogram(experim_fotones, bins=[x-0.5 for x in range(42)],\n",
    "                                                normed=True)\n",
    "# A partir de los bordes de los bines, generamos una lista de los centros de\n",
    "# los bines, requerida por la función pyplot.bar:\n",
    "centros_bines = 0.5*(bordes_bines[1:]+bordes_bines[:-1])\n",
    "# Normalizamos el error poissoniano para mantener el error relativo:\n",
    "error      = np.sqrt(ys)/np.sqrt(1000)\n",
    "# Este ancho es puramente gráfico y no afecta a la normalización porque\n",
    "# la hicimos con anterioridad:\n",
    "ancho      = 0.8\n",
    "# Ahora graficamos el histograma con pyplot:\n",
    "ax.bar(centros_bines, ys, width=ancho, color='orange', yerr=error)\n",
    "# Por último, graficamos la distribución analítica:\n",
    "xs = range(41)\n",
    "ax.plot(xs, poisson.pmf(xs, 15), 'o')"
   ]
  },
  {
   "cell_type": "markdown",
   "metadata": {},
   "source": [
    "**(d)** _Dado el resultado de cada uno de los 1000 experimentos del punto anterior, use el mismo programa para\n",
    "calcular el número de fotones detectados por el detector del punto (b), suponiendo que éste opera durante\n",
    "∆t = 1s, y que todos los fotones emitidos llegan a él (i.e., que el detector subtiende un ángulo sólido de\n",
    "4π visto desde la fuente). Realice el histograma correspondiente y compárelo con la distribución teórica\n",
    "(no olvide normalizar). Discuta los resultados (vea el ejercicio 19b)._\n",
    "\n",
    "Básicamente vamos a simular la composición de una distribución poissoniana de esperanza $I$ con una binomial con $p = \\epsilon = 0.75$. La distribución teórica con la cual comprar el histograma obtenido será una poissoniana con esperanza $(I \\times 1)\\, \\epsilon = 15 \\, 0.75 = 11.25$, según el resultado del ejercicio 19b."
   ]
  },
  {
   "cell_type": "code",
   "execution_count": 8,
   "metadata": {
    "collapsed": false
   },
   "outputs": [
    {
     "data": {
      "text/plain": [
       "[<matplotlib.lines.Line2D at 0x7ffbaf84d860>]"
      ]
     },
     "execution_count": 8,
     "metadata": {},
     "output_type": "execute_result"
    },
    {
     "data": {
      "image/png": "[encoded data removed]",
      "text/plain": [
       "<matplotlib.figure.Figure at 0x7ffbafb4cb38>"
      ]
     },
     "metadata": {},
     "output_type": "display_data"
    }
   ],
   "source": [
    "# Simulamos 1000 de estos experimentos:\n",
    "    \n",
    "I = 15 # en 1/segundos\n",
    "m = 1000\n",
    "eficiencia = 0.75\n",
    "experim_compuestos = [bernoulli(fotones(I,m), eficiencia) for j in range(1000)]\n",
    "\n",
    "# Graficamos los resultados igual que en los puntos previos\n",
    "\n",
    "fig_3 = plt.figure()\n",
    "ax = fig_3.add_subplot(111)\n",
    "#Generamos las alturas y los bordes de los bines. Normalizamos el área a 1\n",
    "ys, bordes_bines = np.histogram(experim_compuestos, bins=[x-0.5 for x in range(42)],\n",
    "                                                normed=True)\n",
    "# A partir de los bordes de los bines, generamos una lista de los centros de\n",
    "# los bines, requerida por la función pyplot.bar:\n",
    "centros_bines = 0.5*(bordes_bines[1:]+bordes_bines[:-1])\n",
    "# Normalizamos el error poissoniano para mantener el error relativo:\n",
    "error      = np.sqrt(ys)/np.sqrt(1000)\n",
    "# Este ancho es puramente gráfico y no afecta a la normalización porque\n",
    "# la hicimos con anterioridad:\n",
    "ancho      = 0.8\n",
    "# Ahora graficamos el histograma con pyplot:\n",
    "ax.bar(centros_bines, ys, width=ancho, color='orange', yerr=error)\n",
    "# Por último, graficamos la distribución analítica:\n",
    "xs = range(41)\n",
    "ax.plot(xs, poisson.pmf(xs, I * eficiencia), 'o')"
   ]
  },
  {
   "cell_type": "markdown",
   "metadata": {},
   "source": [
    "**(e)** _Para ahorrar tiempo, usted podría haber considerado la emisión y detección de cada fotón en forma\n",
    "conjunta, suponiendo una probabilidad efectiva (¿de qué valor?) para este proceso (¿cómo justifica\n",
    "esta hipótesis?). Realice la simulación de este modo, grafique los histogramas y sus correspondientes\n",
    "distribuciones teóricas. Muestre que el resultado es el mismo que el del punto anterior (en sentido\n",
    "estadístico). Discuta el procedimiento y los resultados a la luz de la composición de un proceso de\n",
    "Poisson con uno de Bernoulli._\n",
    "\n",
    "(e) Ahora simulamos el mismo experimento físico que antes pero aprovechando que ya sabemos que composición de poisson con binomial es poisson. La distribución teórica contra la cual se compara es la misma que en el punto anterior.\n",
    "\n",
    "Para la simulación, consideramos emisión y detección de forma conjunta planteando una probabilidad de emisión efectiva dada por una distribución poissoniana con esperanza $(I \\times 1)\\, \\epsilon = 15 \\, 0.75 = 11.25$. Esto es válido suponiendo que realmente todos los fotones emitidos por la fuente llegan al detector."
   ]
  },
  {
   "cell_type": "code",
   "execution_count": 10,
   "metadata": {
    "collapsed": false
   },
   "outputs": [
    {
     "data": {
      "text/plain": [
       "[<matplotlib.lines.Line2D at 0x7ffbaf5e65c0>]"
      ]
     },
     "execution_count": 10,
     "metadata": {},
     "output_type": "execute_result"
    },
    {
     "data": {
      "image/png": "[encoded data removed]",
      "text/plain": [
       "<matplotlib.figure.Figure at 0x7ffbaf704e48>"
      ]
     },
     "metadata": {},
     "output_type": "display_data"
    }
   ],
   "source": [
    "# Simulamos 1000 de estos experimentos:\n",
    "I = 15 # en 1/segundos\n",
    "m = 1000\n",
    "eficiencia = 0.75\n",
    "experim_compuestos_2 = [fotones(I * eficiencia,m) for k in range(1000)]\n",
    "\n",
    "# Graficamos los resultados igual que en el punto previo.\n",
    "\n",
    "fig_4 = plt.figure()\n",
    "ax = fig_4.add_subplot(111)\n",
    "#Generamos las alturas y los bordes de los bines. Normalizamos el área a 1\n",
    "ys, bordes_bines = np.histogram(experim_compuestos_2, bins=[x-0.5 for x in range(42)],\n",
    "                                                normed=True)\n",
    "# A partir de los bordes de los bines, generamos una lista de los centros de\n",
    "# los bines, requerida por la función pyplot.bar:\n",
    "centros_bines = 0.5*(bordes_bines[1:]+bordes_bines[:-1])\n",
    "# Normalizamos el error poissoniano para mantener el error relativo:\n",
    "error      = np.sqrt(ys)/np.sqrt(1000)\n",
    "# Este ancho es puramente gráfico y no afecta a la normalización porque\n",
    "# la hicimos con anterioridad:\n",
    "ancho      = 0.8\n",
    "# Ahora graficamos el histograma con pyplot:\n",
    "ax.bar(centros_bines, ys, width=ancho, color='orange', yerr=error)\n",
    "# Por último, graficamos la distribución analítica:\n",
    "xs = range(41)\n",
    "ax.plot(xs, poisson.pmf(xs, I * eficiencia), 'o')"
   ]
  },
  {
   "cell_type": "markdown",
   "metadata": {},
   "source": [
    "El resultado de este inciso no parece diferir mucho del del inciso previo. En efecto, los histogramas generados por ambos métodos se ajustan bastante bien a los valores teóricos predichos, que son exactamente los mismos en uno y otro caso dado que la composición de $Poisson(I \\, \\Delta t)$ con $Binomial(n, \\epsilon)$ es exactamente $Poisson(I \\, \\Delta t \\, \\epsilon)$."
   ]
  }
 ],
 "metadata": {
  "kernelspec": {
   "display_name": "Python 3",
   "language": "python",
   "name": "python3"
  },
  "language_info": {
   "codemirror_mode": {
    "name": "ipython",
    "version": 3
   },
   "file_extension": ".py",
   "mimetype": "text/x-python",
   "name": "python",
   "nbconvert_exporter": "python",
   "pygments_lexer": "ipython3",
   "version": "3.6.0"
  }
 },
 "nbformat": 4,
 "nbformat_minor": 2
}
