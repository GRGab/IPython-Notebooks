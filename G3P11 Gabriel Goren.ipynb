{
 "cells": [
  {
   "cell_type": "markdown",
   "metadata": {},
   "source": [
    "# Guía 3 Problema 11: Generador de números aleatorios con distribución exponencial\n",
    "---------------------------------------------------------------------\n",
    "*Por Gabriel Goren. L.U.:199/15. FCEN - UBA*\n",
    "\n",
    "_La variable aleatoria $X$ tiene distribución uniforme en $[0,1]$._\n",
    "\n",
    "**(a)** _Muestre que $Y = e^X$ tiene distribución $f_Y (t) = 1/t$, $1 \\leq t \\leq e$. Note que ésto permite escribir una rutina\n",
    "que genere números con distribución $1/x$._\n",
    "\n",
    "$Y = e^X \\implies X = \\log(Y)$ y la relación entre estas dos variables es biyectiva teniendo cuidado con los dominios ($X$ está definida en $[0,1]$, $Y$ está definida en $[1,e]$). Por lo tanto se tiene que\n",
    "\n",
    "$$ f_Y(y) = f_X(x(y)) \\, \\bigg| {\\frac{dx}{dy}} \\bigg| = f_X(\\log(y)) \\, \\frac{1}{y} = \\frac{1}{y} $$\n",
    "\n",
    "donde en el último paso se emplea que $f_X(x) = \\frac{1}{1 - 0} = 1 \\, \\forall x \\in [0,1]$.\n",
    "\n",
    "**(b)** _¿Cómo haría para generar números al azar con distribución exponencial? Impleméntelo en la computadora, construya un histograma con 500 números generados y dibuje sobre éste la distribución teórica. Use λ = 0.25. Hacer esto para dos 2 histogramas: uno con bines de igual ancho en todo el rango (un ancho apropiado para resolver la forma de la distribución) y otro con bines más gruesos a partir de Y ≥ 15. ¿Cómo debe escalear la altura de los bines para que se superponga con la distribución?_\n",
    "\n",
    "Para generar números al azar con distribución exponencial, queremos que\n",
    "\n",
    "$$ f_Y(y) = \\lambda e^{-\\lambda y}. $$\n",
    "\n",
    "Usando la misma fórmula que antes,\n",
    "\n",
    "$$ f_Y(y) = f_X(x(y)) \\, \\bigg| {\\frac{dx}{dy}} \\bigg| = \\bigg| {\\frac{dx}{dy}} \\bigg| = \\lambda e^{-\\lambda y} $$\n",
    "\n",
    "donde en el segundo paso se emplea nuevamente que $f_X(x) = 1 \\, \\forall x \\in [0,1]$. Inspeccionando la última igualdad se observa que\n",
    "\n",
    "$$ X = e^{- \\lambda Y} $$\n",
    "\n",
    "la satisface, pues entonces $\\bigg| {\\frac{dx}{dy}} \\bigg| = \\bigg| -\\lambda e^{-\\lambda y} \\bigg| = \\lambda e^{-\\lambda y}$, que es lo que buscábamos. De esta forma, invirtiendo la relación entre las variables, llegamos a que la transformación buscada es\n",
    "\n",
    "$$ Y = -\\frac{1}{\\lambda} \\log(X). $$\n",
    "\n",
    "Para que el histograma se superponga con la distribución, la altura de los bines debe escalear según\n",
    "\n",
    "$$ \\frac{altura_{i+1}}{altura_{i}} = \\frac{\\lambda \\, e^{-\\lambda(y_i + ancho_i)}}{\\lambda \\, e^{-\\lambda \\, y_i}} = e^{-\\lambda \\, ancho} $$\n",
    "\n",
    "donde $altura_i$ y $ancho_i$ son la altura y el ancho del $i$-ésimo bin respectivamente e $y_i$ es la posición de su borde izquierdo ($y_{i+1} = y_i + ancho_i$).\n",
    "\n",
    "A continuación se muestra el código empleado y los histogramas obtenidos. "
   ]
  },
  {
   "cell_type": "code",
   "execution_count": 4,
   "metadata": {
    "collapsed": false
   },
   "outputs": [
    {
     "data": {
      "text/plain": [
       "[<matplotlib.lines.Line2D at 0x7f3a67ac5e10>]"
      ]
     },
     "execution_count": 4,
     "metadata": {},
     "output_type": "execute_result"
    },
    {
     "data": {
      "image/png": "[encoded data removed]",
      "text/plain": [
       "<matplotlib.figure.Figure at 0x7f3a6830a1d0>"
      ]
     },
     "metadata": {},
     "output_type": "display_data"
    }
   ],
   "source": [
    "import matplotlib.pyplot as plt\n",
    "import numpy as np\n",
    "from numpy.random import uniform\n",
    "from math import ceil\n",
    "%matplotlib inline\n",
    "\n",
    "# Se grafica en bines equiespaciados y también con bines más gruesos a partir\n",
    "# de Y = 15\n",
    "\n",
    "\n",
    "muestras = 5000\n",
    "l = 0.25 #Esto es el parámetro lambda de la exponencial\n",
    "ymax = 30\n",
    "#Número de bines en el primer gráfico (ajusta todos los demás)\n",
    "numbines = 30\n",
    "\n",
    "X = uniform(0,1, size=muestras)\n",
    "Y = -1/l * np.log(X)\n",
    "\n",
    "ys = np.linspace(0, ymax, 50000)\n",
    "expo = l * np.exp(-l * ys)\n",
    "\n",
    "#Comenzamos ploteo\n",
    "fig = plt.figure(figsize=(14,4))\n",
    "\n",
    "### Primer gráfico\n",
    "ax1 = fig.add_subplot(121)\n",
    "\n",
    "\n",
    "#Generamos las alturas y los bordes de los bines. Normalizamos el área a 1\n",
    "alturas, bordes_bines = np.histogram(Y , bins=numbines, range=(0,ymax), normed=True)\n",
    "# A partir de los bordes de los bines, generamos una lista de los centros de\n",
    "# los bines, requerida por la función pyplot.bar:\n",
    "centros_bines = 0.5*(bordes_bines[1:]+bordes_bines[:-1])\n",
    "# Normalizamos el error poissoniano para mantener el error relativo:\n",
    "error = np.sqrt(alturas)/np.sqrt(1000)\n",
    "# Ahora graficamos el histograma con pyplot:\n",
    "ancho = ymax/numbines\n",
    "ax1.bar(centros_bines, alturas, width=ancho, color='dodgerblue', yerr=error,\n",
    "        edgecolor='black')\n",
    "# Y la curva teórica:\n",
    "ax1.plot(ys, expo, color='deeppink')\n",
    "\n",
    "### Segundo gráfico\n",
    "ax2 = fig.add_subplot(122)\n",
    "\n",
    "\n",
    "\n",
    "# Los primeros bines tienen el mismo ancho que los de la otra figura:\n",
    "ancho_1 = ymax / numbines\n",
    "# Generamos el número de bines que tendrá este ancho en esta figura:\n",
    "numbines_1 = ceil(15 / ancho_1)\n",
    "# Guardamos el valor a partir del cual comenzarán los bines más grandes:\n",
    "final_1 = ancho_1 * numbines_1\n",
    "# Vamos a regular con 'a' el ancho de la segunda tanda de bines\n",
    "a = 1.5\n",
    "ancho_2 = ancho_1 * a\n",
    "# Generamos el número de bines con ancho más grande:\n",
    "numbines_2 = ceil((ymax - final_1) / ancho_2)\n",
    "# Guardamos el punto hasta el cual llega nuestro histograma\n",
    "final_2 = final_1 + ancho_2 * numbines_2\n",
    "# Creamos los bordes de los bines::\n",
    "bines_1    = np.array([i * ancho_1 for i in range(numbines_1)])\n",
    "bines_2    = final_1 + np.array([i * ancho_2 for i in range(numbines_2 + 1)])\n",
    "bordes_bines  = np.concatenate((bines_1, bines_2), axis=0)\n",
    "# Hacemos que bines_2 tenga un elemento más que numbines_2 porque el último\n",
    "# elemento de bordes_bines debe ser el borde derecho del último bin.\n",
    "\n",
    "# Por último generamos una lista con el ancho de cada bin\n",
    "losanchos = [ancho_1 for i in range(numbines_1)] + [ancho_2 for i in range(numbines_2)]\n",
    "\n",
    "### Ploteamos igual que antes:\n",
    "    \n",
    "#Generamos las alturas y los bordes de los bines. Normalizamos el área a 1\n",
    "alturas, bordes_bines = np.histogram(Y , bins=bordes_bines, range=(0,final_2), normed=True)\n",
    "# A partir de los bordes de los bines, generamos una lista de los centros de\n",
    "# los bines, requerida por la función pyplot.bar:\n",
    "centros_bines = 0.5*(bordes_bines[1:]+bordes_bines[:-1])\n",
    "# Normalizamos el error poissoniano para mantener el error relativo:\n",
    "error = np.sqrt(alturas)/np.sqrt(1000)\n",
    "# Ahora graficamos el histograma con pyplot:\n",
    "ax2.bar(centros_bines, alturas, width=losanchos, color='dodgerblue', yerr=error,\n",
    "        edgecolor='black')\n",
    "# Y la curva teórica:\n",
    "ys = np.linspace(0, final_2, 50000)\n",
    "ax2.plot(ys, expo, color='deeppink')\n",
    "\n",
    "### Ojo: este código no funciona si ymax < 15.\n",
    "### El segundo histograma termina en y = final_2, un poco después de y = ymax\n",
    "### (recordar que y son las abcisas), así como el punto de corte entre los bines\n",
    "### con ancho_1 y los bines con ancho_2 es y = final_1 que es un poco más grande\n",
    "### que y = 15. Sin embargo estas diferencias son pequeñas y no impiden realizar\n",
    "### una comparación entre el primer y el segundo gráfico."
   ]
  },
  {
   "cell_type": "markdown",
   "metadata": {},
   "source": [
    "Encontré que con un número de bines alrededor de 35 para el rango de valores de $Y$ entre 0 y 35 la altura de los bines se pegaba bastante bien a la curva exponencial. Al modificar el ancho de los bines a partir de $Y = 15$, observé que si el nuevo ancho era mayor a dos veces el ancho inicial los bines comenzaban a ser demasiado altos y se alejaban sustancialmente de la curva, mientras que si el nuevo ancho tenía un ancho de entre 1 y 2 veces el ancho inicial, no había demasiada diferencia entre un gráfico y el otro. Entiendo que la idea de modificar el ancho de los bines era evitar que el histograma se despegara de la curva en la región de menor probabilidad debido a que, al caer menos puntos allí, muchos bines tuviesen cero entradas. Sin embargo no logré encontrar una proporción entre los anchos antes y después de $Y = 15$ que mejorara visiblemente la adecuación del histograma a la curva."
   ]
  }
 ],
 "metadata": {
  "kernelspec": {
   "display_name": "Python 3",
   "language": "python",
   "name": "python3"
  },
  "language_info": {
   "codemirror_mode": {
    "name": "ipython",
    "version": 3
   },
   "file_extension": ".py",
   "mimetype": "text/x-python",
   "name": "python",
   "nbconvert_exporter": "python",
   "pygments_lexer": "ipython3",
   "version": "3.6.0"
  }
 },
 "nbformat": 4,
 "nbformat_minor": 2
}
